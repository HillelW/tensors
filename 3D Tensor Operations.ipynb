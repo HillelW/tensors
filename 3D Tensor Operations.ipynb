{
 "cells": [
  {
   "cell_type": "markdown",
   "id": "d80a6250",
   "metadata": {},
   "source": [
    "# 3D Tensor Operations\n",
    "\n",
    "## Based on \"A Third-Order Generalization of the Matrix SVD as a Product of Third-Order Tensors\" by Kilmer et al.\n",
    "\n",
    "The following is an example of a 3-dimensional tensor:"
   ]
  },
  {
   "cell_type": "code",
   "execution_count": 1,
   "id": "5414444d",
   "metadata": {},
   "outputs": [
    {
     "data": {
      "text/plain": [
       "array([[[ 1,  2,  3],\n",
       "        [ 4,  5,  6],\n",
       "        [ 7,  8,  9]],\n",
       "\n",
       "       [[11, 12, 13],\n",
       "        [14, 15, 16],\n",
       "        [17, 18, 19]],\n",
       "\n",
       "       [[21, 22, 23],\n",
       "        [24, 25, 26],\n",
       "        [27, 28, 29]]])"
      ]
     },
     "execution_count": 1,
     "metadata": {},
     "output_type": "execute_result"
    }
   ],
   "source": [
    "import numpy as np\n",
    "from numpy import array\n",
    "\n",
    "T = array([\n",
    "  [\n",
    "   [1,2,3],    \n",
    "   [4,5,6],    \n",
    "   [7,8,9]\n",
    "  ],\n",
    "  [\n",
    "   [11,12,13], \n",
    "   [14,15,16], \n",
    "   [17,18,19]\n",
    "  ],\n",
    "  [\n",
    "   [21,22,23], \n",
    "   [24,25,26], \n",
    "   [27,28,29]\n",
    "  ],\n",
    "])\n",
    "\n",
    "T"
   ]
  },
  {
   "cell_type": "markdown",
   "id": "d8152e45",
   "metadata": {},
   "source": [
    "In numpy, the first dimension corresponds to the *depth* associated with the tensor, the second dimension corresponds to the rows of the tensor, and the third dimension corresponds to the columns of the tensor:"
   ]
  },
  {
   "cell_type": "code",
   "execution_count": 2,
   "id": "78ba538e",
   "metadata": {},
   "outputs": [
    {
     "data": {
      "text/plain": [
       "(3, 3, 3)"
      ]
     },
     "execution_count": 2,
     "metadata": {},
     "output_type": "execute_result"
    }
   ],
   "source": [
    "T.shape"
   ]
  },
  {
   "cell_type": "markdown",
   "id": "64ae17d8",
   "metadata": {},
   "source": [
    "In other words, we can imagine the above tensor as a *number cube*, where its componenet matrices are stacked on top of each other going into the page.\n",
    "\n",
    "Just as with vectors and matrices, we can define operations such as scalar multiplication and tensor addition on tensors. This allows us to define a vector space whose vectors are tensors. Such a vector space allows us to form linear combinations of tensors:"
   ]
  },
  {
   "cell_type": "code",
   "execution_count": 3,
   "id": "8d45c0dd",
   "metadata": {},
   "outputs": [
    {
     "data": {
      "text/plain": [
       "array([[[ 2,  4,  6],\n",
       "        [ 8, 10, 12],\n",
       "        [14, 16, 18]],\n",
       "\n",
       "       [[22, 24, 26],\n",
       "        [28, 30, 32],\n",
       "        [34, 36, 38]],\n",
       "\n",
       "       [[42, 44, 46],\n",
       "        [48, 50, 52],\n",
       "        [54, 56, 58]]])"
      ]
     },
     "execution_count": 3,
     "metadata": {},
     "output_type": "execute_result"
    }
   ],
   "source": [
    "# scalar mulitiplication\n",
    "\n",
    "T * 2"
   ]
  },
  {
   "cell_type": "code",
   "execution_count": 4,
   "id": "4fc5ad64",
   "metadata": {},
   "outputs": [
    {
     "data": {
      "text/plain": [
       "array([[[ 2,  4,  6],\n",
       "        [ 8, 10, 12],\n",
       "        [14, 16, 18]],\n",
       "\n",
       "       [[22, 24, 26],\n",
       "        [28, 30, 32],\n",
       "        [34, 36, 38]],\n",
       "\n",
       "       [[42, 44, 46],\n",
       "        [48, 50, 52],\n",
       "        [54, 56, 58]]])"
      ]
     },
     "execution_count": 4,
     "metadata": {},
     "output_type": "execute_result"
    }
   ],
   "source": [
    "# tensor addition (component-wise)\n",
    "\n",
    "T + T"
   ]
  },
  {
   "cell_type": "code",
   "execution_count": 5,
   "id": "7b0c57a0",
   "metadata": {},
   "outputs": [
    {
     "data": {
      "text/plain": [
       "array([[[  1,   4,   9],\n",
       "        [ 16,  25,  36],\n",
       "        [ 49,  64,  81]],\n",
       "\n",
       "       [[121, 144, 169],\n",
       "        [196, 225, 256],\n",
       "        [289, 324, 361]],\n",
       "\n",
       "       [[441, 484, 529],\n",
       "        [576, 625, 676],\n",
       "        [729, 784, 841]]])"
      ]
     },
     "execution_count": 5,
     "metadata": {},
     "output_type": "execute_result"
    }
   ],
   "source": [
    "# tensor hadamard product (component-wise multiplication)\n",
    "\n",
    "T * T"
   ]
  },
  {
   "cell_type": "markdown",
   "id": "b3f36bd6",
   "metadata": {},
   "source": [
    "Given a tensor, we can obtain *sub-tensors* called *slices* and *fibers* by cutting the tensor in various ways.\n",
    "\n",
    "A *slice* occurs when we fix all indices except two. \n",
    "\n",
    "In the case of a 3-dimensional tensor, we can obtain *frontal slices*, *horizontal slices* and *lateral slices*:"
   ]
  },
  {
   "cell_type": "code",
   "execution_count": 6,
   "id": "fed6434f",
   "metadata": {},
   "outputs": [
    {
     "data": {
      "text/plain": [
       "array([[[ 1, 14, 15],\n",
       "        [23,  6, 20],\n",
       "        [24, 18,  8]],\n",
       "\n",
       "       [[15,  8,  7],\n",
       "        [28, 12, 17],\n",
       "        [21, 29, 23]],\n",
       "\n",
       "       [[ 9,  5, 13],\n",
       "        [ 7, 22, 26],\n",
       "        [21,  1, 19]]])"
      ]
     },
     "execution_count": 6,
     "metadata": {},
     "output_type": "execute_result"
    }
   ],
   "source": [
    "T = array(\n",
    "    [1, 14, 15,\n",
    "    23, 6, 20,\n",
    "    24, 18, 8,\n",
    "\n",
    "    15, 8, 7,\n",
    "    28, 12, 17,\n",
    "    21, 29, 23,\n",
    "\n",
    "    9, 5, 13,\n",
    "    7, 22, 26,\n",
    "    21, 1, 19]).reshape((3, 3, 3))\n",
    "\n",
    "T"
   ]
  },
  {
   "cell_type": "code",
   "execution_count": 7,
   "id": "a8d5a052",
   "metadata": {},
   "outputs": [
    {
     "name": "stdout",
     "output_type": "stream",
     "text": [
      "T:\n",
      "\n",
      " [[[ 1 14 15]\n",
      "  [23  6 20]\n",
      "  [24 18  8]]\n",
      "\n",
      " [[15  8  7]\n",
      "  [28 12 17]\n",
      "  [21 29 23]]\n",
      "\n",
      " [[ 9  5 13]\n",
      "  [ 7 22 26]\n",
      "  [21  1 19]]] \n",
      "\n",
      "frontal slices of T:\n",
      "\n",
      "[[ 1 14 15]\n",
      " [23  6 20]\n",
      " [24 18  8]]\n",
      "\n",
      "[[15  8  7]\n",
      " [28 12 17]\n",
      " [21 29 23]]\n",
      "\n",
      "[[ 9  5 13]\n",
      " [ 7 22 26]\n",
      " [21  1 19]]\n",
      "\n"
     ]
    }
   ],
   "source": [
    "print('T:\\n\\n', T, '\\n')\n",
    "print('frontal slices of T:\\n')\n",
    "for i in range(3):\n",
    "    print(T[i,:,:])\n",
    "    print()"
   ]
  },
  {
   "cell_type": "code",
   "execution_count": 8,
   "id": "385bfc34",
   "metadata": {},
   "outputs": [
    {
     "name": "stdout",
     "output_type": "stream",
     "text": [
      "T:\n",
      "\n",
      " [[[ 1 14 15]\n",
      "  [23  6 20]\n",
      "  [24 18  8]]\n",
      "\n",
      " [[15  8  7]\n",
      "  [28 12 17]\n",
      "  [21 29 23]]\n",
      "\n",
      " [[ 9  5 13]\n",
      "  [ 7 22 26]\n",
      "  [21  1 19]]] \n",
      "\n",
      "horizontal slices of T:\n",
      "\n",
      "[[ 1 14 15]\n",
      " [15  8  7]\n",
      " [ 9  5 13]]\n",
      "\n",
      "[[23  6 20]\n",
      " [28 12 17]\n",
      " [ 7 22 26]]\n",
      "\n",
      "[[24 18  8]\n",
      " [21 29 23]\n",
      " [21  1 19]]\n",
      "\n"
     ]
    }
   ],
   "source": [
    "print('T:\\n\\n', T, '\\n')\n",
    "print('horizontal slices of T:\\n')\n",
    "for i in range(3):\n",
    "    print(T[:,i,:])\n",
    "    print()"
   ]
  },
  {
   "cell_type": "code",
   "execution_count": 9,
   "id": "cb57760d",
   "metadata": {},
   "outputs": [
    {
     "name": "stdout",
     "output_type": "stream",
     "text": [
      "T:\n",
      "\n",
      " [[[ 1 14 15]\n",
      "  [23  6 20]\n",
      "  [24 18  8]]\n",
      "\n",
      " [[15  8  7]\n",
      "  [28 12 17]\n",
      "  [21 29 23]]\n",
      "\n",
      " [[ 9  5 13]\n",
      "  [ 7 22 26]\n",
      "  [21  1 19]]] \n",
      "\n",
      "lateral slices of T:\n",
      "\n",
      "[[ 1 23 24]\n",
      " [15 28 21]\n",
      " [ 9  7 21]]\n",
      "\n",
      "[[14  6 18]\n",
      " [ 8 12 29]\n",
      " [ 5 22  1]]\n",
      "\n",
      "[[15 20  8]\n",
      " [ 7 17 23]\n",
      " [13 26 19]]\n",
      "\n"
     ]
    }
   ],
   "source": [
    "print('T:\\n\\n', T, '\\n')\n",
    "print('lateral slices of T:\\n')\n",
    "for i in range(3):\n",
    "    print(T[:,:,i])\n",
    "    print()"
   ]
  },
  {
   "cell_type": "markdown",
   "id": "7a453e20",
   "metadata": {},
   "source": [
    "A *fiber* occurs when we fix all indices except one:.\n",
    "\n",
    "In this way, we can obtain *depth-fibers*, *row-fibers* and *column-fibers*:"
   ]
  },
  {
   "cell_type": "code",
   "execution_count": 10,
   "id": "4bc44ed8",
   "metadata": {},
   "outputs": [
    {
     "name": "stdout",
     "output_type": "stream",
     "text": [
      "T:\n",
      "\n",
      " [[[ 1 14 15]\n",
      "  [23  6 20]\n",
      "  [24 18  8]]\n",
      "\n",
      " [[15  8  7]\n",
      "  [28 12 17]\n",
      "  [21 29 23]]\n",
      "\n",
      " [[ 9  5 13]\n",
      "  [ 7 22 26]\n",
      "  [21  1 19]]] \n",
      "\n",
      "mode-0 fibers of T (depth-fibers):\n",
      "\n",
      "[ 1 15  9]\n",
      "\n",
      "[14  8  5]\n",
      "\n",
      "[15  7 13]\n",
      "\n",
      "[23 28  7]\n",
      "\n",
      "[ 6 12 22]\n",
      "\n",
      "[20 17 26]\n",
      "\n",
      "[24 21 21]\n",
      "\n",
      "[18 29  1]\n",
      "\n",
      "[ 8 23 19]\n",
      "\n"
     ]
    }
   ],
   "source": [
    "print('T:\\n\\n', T, '\\n')\n",
    "print('mode-0 fibers of T (depth-fibers):\\n')\n",
    "for i in range(3):\n",
    "    for j in range(3):\n",
    "        print(T[:,i,j])\n",
    "        print()"
   ]
  },
  {
   "cell_type": "code",
   "execution_count": 11,
   "id": "b1da0d2a",
   "metadata": {},
   "outputs": [
    {
     "name": "stdout",
     "output_type": "stream",
     "text": [
      "T:\n",
      "\n",
      " [[[ 1 14 15]\n",
      "  [23  6 20]\n",
      "  [24 18  8]]\n",
      "\n",
      " [[15  8  7]\n",
      "  [28 12 17]\n",
      "  [21 29 23]]\n",
      "\n",
      " [[ 9  5 13]\n",
      "  [ 7 22 26]\n",
      "  [21  1 19]]] \n",
      "\n",
      "mode-1 fibers of T (row-fibers):\n",
      "\n",
      "[ 1 23 24]\n",
      "\n",
      "[14  6 18]\n",
      "\n",
      "[15 20  8]\n",
      "\n",
      "[15 28 21]\n",
      "\n",
      "[ 8 12 29]\n",
      "\n",
      "[ 7 17 23]\n",
      "\n",
      "[ 9  7 21]\n",
      "\n",
      "[ 5 22  1]\n",
      "\n",
      "[13 26 19]\n",
      "\n"
     ]
    }
   ],
   "source": [
    "print('T:\\n\\n', T, '\\n')\n",
    "print('mode-1 fibers of T (row-fibers):\\n')\n",
    "for i in range(3):\n",
    "    for j in range(3):\n",
    "        print(T[i,:,j])\n",
    "        print()"
   ]
  },
  {
   "cell_type": "code",
   "execution_count": 12,
   "id": "1d520479",
   "metadata": {},
   "outputs": [
    {
     "name": "stdout",
     "output_type": "stream",
     "text": [
      "T:\n",
      "\n",
      " [[[ 1 14 15]\n",
      "  [23  6 20]\n",
      "  [24 18  8]]\n",
      "\n",
      " [[15  8  7]\n",
      "  [28 12 17]\n",
      "  [21 29 23]]\n",
      "\n",
      " [[ 9  5 13]\n",
      "  [ 7 22 26]\n",
      "  [21  1 19]]] \n",
      "\n",
      "mode-2 fibers of T (column-fibers):\n",
      "\n",
      "[ 1 14 15]\n",
      "\n",
      "[23  6 20]\n",
      "\n",
      "[24 18  8]\n",
      "\n",
      "[15  8  7]\n",
      "\n",
      "[28 12 17]\n",
      "\n",
      "[21 29 23]\n",
      "\n",
      "[ 9  5 13]\n",
      "\n",
      "[ 7 22 26]\n",
      "\n",
      "[21  1 19]\n",
      "\n"
     ]
    }
   ],
   "source": [
    "print('T:\\n\\n', T, '\\n')\n",
    "print('mode-2 fibers of T (column-fibers):\\n')\n",
    "for i in range(3):\n",
    "    for j in range(3):\n",
    "        print(T[i,j,:])\n",
    "        print()"
   ]
  },
  {
   "cell_type": "markdown",
   "id": "44a3f47a",
   "metadata": {},
   "source": [
    "We can compress the above ideas into the following generalized functions:"
   ]
  },
  {
   "cell_type": "code",
   "execution_count": 13,
   "id": "e6226a70",
   "metadata": {},
   "outputs": [],
   "source": [
    "def get_slices(T):\n",
    "    '''given a tensor T, returns all of its slices.'''\n",
    "    shape = T.shape\n",
    "    depth = shape[0]\n",
    "    rows = shape[1]\n",
    "    columns = shape[2]\n",
    "    \n",
    "    result = []\n",
    "    frontal_slices = []\n",
    "    horizontal_slices = []\n",
    "    lateral_slices = []\n",
    "    \n",
    "    # get frontal slices\n",
    "    for i in range(depth):\n",
    "        frontal_slices.append(T[i,:,:])\n",
    "    result.append(frontal_slices)\n",
    "    \n",
    "    # get horizontal slices\n",
    "    for i in range(rows):\n",
    "        horizontal_slices.append(T[:,i,:])\n",
    "    result.append(horizontal_slices)\n",
    "    \n",
    "    # get lateral slices\n",
    "    for i in range(columns):\n",
    "        lateral_slices.append(T[:,:,i])\n",
    "    result.append(lateral_slices)\n",
    "    \n",
    "    return result\n",
    "\n",
    "slices = get_slices(T)"
   ]
  },
  {
   "cell_type": "code",
   "execution_count": 14,
   "id": "14d2684b",
   "metadata": {},
   "outputs": [
    {
     "data": {
      "text/plain": [
       "[array([[ 1, 14, 15],\n",
       "        [23,  6, 20],\n",
       "        [24, 18,  8]]),\n",
       " array([[15,  8,  7],\n",
       "        [28, 12, 17],\n",
       "        [21, 29, 23]]),\n",
       " array([[ 9,  5, 13],\n",
       "        [ 7, 22, 26],\n",
       "        [21,  1, 19]])]"
      ]
     },
     "execution_count": 14,
     "metadata": {},
     "output_type": "execute_result"
    }
   ],
   "source": [
    "slices[0]"
   ]
  },
  {
   "cell_type": "code",
   "execution_count": 15,
   "id": "026c2302",
   "metadata": {},
   "outputs": [
    {
     "data": {
      "text/plain": [
       "[array([[ 1, 14, 15],\n",
       "        [15,  8,  7],\n",
       "        [ 9,  5, 13]]),\n",
       " array([[23,  6, 20],\n",
       "        [28, 12, 17],\n",
       "        [ 7, 22, 26]]),\n",
       " array([[24, 18,  8],\n",
       "        [21, 29, 23],\n",
       "        [21,  1, 19]])]"
      ]
     },
     "execution_count": 15,
     "metadata": {},
     "output_type": "execute_result"
    }
   ],
   "source": [
    "slices[1]"
   ]
  },
  {
   "cell_type": "code",
   "execution_count": 16,
   "id": "ea5dcac7",
   "metadata": {},
   "outputs": [
    {
     "data": {
      "text/plain": [
       "[array([[ 1, 23, 24],\n",
       "        [15, 28, 21],\n",
       "        [ 9,  7, 21]]),\n",
       " array([[14,  6, 18],\n",
       "        [ 8, 12, 29],\n",
       "        [ 5, 22,  1]]),\n",
       " array([[15, 20,  8],\n",
       "        [ 7, 17, 23],\n",
       "        [13, 26, 19]])]"
      ]
     },
     "execution_count": 16,
     "metadata": {},
     "output_type": "execute_result"
    }
   ],
   "source": [
    "slices[2]"
   ]
  },
  {
   "cell_type": "code",
   "execution_count": 17,
   "id": "f73f3df3",
   "metadata": {},
   "outputs": [],
   "source": [
    "def get_fibers(T):\n",
    "    '''given a 3D tensor T, returns all of its fibers.'''\n",
    "    shape = T.shape\n",
    "    depth = shape[0]\n",
    "    rows = shape[1]\n",
    "    columns = shape[2]\n",
    "    \n",
    "    result = []\n",
    "    mode_0_fibers = []\n",
    "    mode_1_fibers = []\n",
    "    mode_2_fibers = []\n",
    "    \n",
    "    # get mode-0 fibers\n",
    "    for i in range(rows):\n",
    "        for j in range(columns):\n",
    "            mode_0_fibers.append(T[:,i,j])\n",
    "    result.append(mode_0_fibers)\n",
    "    \n",
    "    # get mode-1 fibers\n",
    "    for i in range(depth):\n",
    "        for j in range(columns):\n",
    "            mode_1_fibers.append(T[i,:,j])\n",
    "    result.append(mode_1_fibers)\n",
    "    \n",
    "    # get mode-2 fibers\n",
    "    for i in range(depth):\n",
    "        for j in range(rows):\n",
    "            mode_2_fibers.append(T[i,j,:])\n",
    "    result.append(mode_2_fibers)\n",
    "    \n",
    "    return result"
   ]
  },
  {
   "cell_type": "code",
   "execution_count": 18,
   "id": "f2a14db4",
   "metadata": {},
   "outputs": [],
   "source": [
    "fibers = get_fibers(T)"
   ]
  },
  {
   "cell_type": "code",
   "execution_count": 19,
   "id": "740412cb",
   "metadata": {},
   "outputs": [
    {
     "data": {
      "text/plain": [
       "[array([ 1, 15,  9]),\n",
       " array([14,  8,  5]),\n",
       " array([15,  7, 13]),\n",
       " array([23, 28,  7]),\n",
       " array([ 6, 12, 22]),\n",
       " array([20, 17, 26]),\n",
       " array([24, 21, 21]),\n",
       " array([18, 29,  1]),\n",
       " array([ 8, 23, 19])]"
      ]
     },
     "execution_count": 19,
     "metadata": {},
     "output_type": "execute_result"
    }
   ],
   "source": [
    "fibers[0]"
   ]
  },
  {
   "cell_type": "code",
   "execution_count": 20,
   "id": "4665a245",
   "metadata": {},
   "outputs": [
    {
     "data": {
      "text/plain": [
       "[array([ 1, 23, 24]),\n",
       " array([14,  6, 18]),\n",
       " array([15, 20,  8]),\n",
       " array([15, 28, 21]),\n",
       " array([ 8, 12, 29]),\n",
       " array([ 7, 17, 23]),\n",
       " array([ 9,  7, 21]),\n",
       " array([ 5, 22,  1]),\n",
       " array([13, 26, 19])]"
      ]
     },
     "execution_count": 20,
     "metadata": {},
     "output_type": "execute_result"
    }
   ],
   "source": [
    "fibers[1]"
   ]
  },
  {
   "cell_type": "code",
   "execution_count": 21,
   "id": "9b12dc6b",
   "metadata": {},
   "outputs": [
    {
     "data": {
      "text/plain": [
       "[array([ 1, 14, 15]),\n",
       " array([23,  6, 20]),\n",
       " array([24, 18,  8]),\n",
       " array([15,  8,  7]),\n",
       " array([28, 12, 17]),\n",
       " array([21, 29, 23]),\n",
       " array([ 9,  5, 13]),\n",
       " array([ 7, 22, 26]),\n",
       " array([21,  1, 19])]"
      ]
     },
     "execution_count": 21,
     "metadata": {},
     "output_type": "execute_result"
    }
   ],
   "source": [
    "fibers[2]"
   ]
  },
  {
   "cell_type": "code",
   "execution_count": 22,
   "id": "8de5be5b",
   "metadata": {},
   "outputs": [
    {
     "data": {
      "text/plain": [
       "array([[[1, 4, 5],\n",
       "        [2, 8, 7],\n",
       "        [9, 5, 3]],\n",
       "\n",
       "       [[2, 6, 2],\n",
       "        [8, 1, 3],\n",
       "        [7, 5, 6]]])"
      ]
     },
     "execution_count": 22,
     "metadata": {},
     "output_type": "execute_result"
    }
   ],
   "source": [
    "T = array([\n",
    "    1, 4, 5,\n",
    "    2, 8, 7,\n",
    "    9, 5, 3,\n",
    "    2, 6, 2,\n",
    "    8, 1, 3,\n",
    "    7, 5, 6]).reshape((2, 3, 3))\n",
    "\n",
    "T"
   ]
  },
  {
   "cell_type": "markdown",
   "id": "34bdd6d3",
   "metadata": {},
   "source": [
    "The ability to decompose a tensor into its fibers give us a way of transforming one tensor into several matrices. This operation is called the *mode-n matricization* of a tensor. \n",
    "\n",
    "mode-n matricization* of a tensor works by collecting all fibers associated with the tensor's nth mode into the columns of a matrix:"
   ]
  },
  {
   "cell_type": "code",
   "execution_count": 23,
   "id": "68312e4a",
   "metadata": {},
   "outputs": [],
   "source": [
    "def matricize(T):\n",
    "    '''turns the mode-n fibers of T into the columns of a matrix'''\n",
    "    modes = len(T.shape)\n",
    "    result = []\n",
    "    fibers = get_fibers(T)\n",
    "    for i in range(modes):\n",
    "        result.append(np.vstack(fibers[i]).T)\n",
    "    return result"
   ]
  },
  {
   "cell_type": "code",
   "execution_count": 24,
   "id": "08a33f9c",
   "metadata": {},
   "outputs": [
    {
     "name": "stdout",
     "output_type": "stream",
     "text": [
      "T:\n",
      "\n",
      " [[[1 4 5]\n",
      "  [2 8 7]\n",
      "  [9 5 3]]\n",
      "\n",
      " [[2 6 2]\n",
      "  [8 1 3]\n",
      "  [7 5 6]]] \n",
      "\n"
     ]
    },
    {
     "data": {
      "text/plain": [
       "[array([[1, 4, 5, 2, 8, 7, 9, 5, 3],\n",
       "        [2, 6, 2, 8, 1, 3, 7, 5, 6]]),\n",
       " array([[1, 4, 5, 2, 6, 2],\n",
       "        [2, 8, 7, 8, 1, 3],\n",
       "        [9, 5, 3, 7, 5, 6]]),\n",
       " array([[1, 2, 9, 2, 8, 7],\n",
       "        [4, 8, 5, 6, 1, 5],\n",
       "        [5, 7, 3, 2, 3, 6]])]"
      ]
     },
     "execution_count": 24,
     "metadata": {},
     "output_type": "execute_result"
    }
   ],
   "source": [
    "print('T:\\n\\n', T, '\\n')\n",
    "\n",
    "matricize(T)"
   ]
  },
  {
   "cell_type": "markdown",
   "id": "171f5eda",
   "metadata": {},
   "source": [
    "Matricization can be implemented more easily using the *tensorly* library:"
   ]
  },
  {
   "cell_type": "code",
   "execution_count": 25,
   "id": "4f2beb13",
   "metadata": {},
   "outputs": [
    {
     "name": "stdout",
     "output_type": "stream",
     "text": [
      "[[1 4 5 2 8 7 9 5 3]\n",
      " [2 6 2 8 1 3 7 5 6]]\n",
      "[[1 4 5 2 6 2]\n",
      " [2 8 7 8 1 3]\n",
      " [9 5 3 7 5 6]]\n",
      "[[1 2 9 2 8 7]\n",
      " [4 8 5 6 1 5]\n",
      " [5 7 3 2 3 6]]\n"
     ]
    }
   ],
   "source": [
    "import tensorly\n",
    "import tensorly as tl\n",
    "\n",
    "for i in range(3):\n",
    "    print(tl.unfold(T, i))"
   ]
  },
  {
   "cell_type": "markdown",
   "id": "72b59a25",
   "metadata": {},
   "source": [
    "In contrast to matricization, the *unfold* operation collects all of a tensor's *frontal slices* into *one matrix*, one below the other: "
   ]
  },
  {
   "cell_type": "code",
   "execution_count": 26,
   "id": "7a6ff190",
   "metadata": {},
   "outputs": [
    {
     "name": "stdout",
     "output_type": "stream",
     "text": [
      "T:\n",
      "\n",
      " [[[1 4 5]\n",
      "  [2 8 7]\n",
      "  [9 5 3]]\n",
      "\n",
      " [[2 6 2]\n",
      "  [8 1 3]\n",
      "  [7 5 6]]] \n",
      "\n"
     ]
    },
    {
     "data": {
      "text/plain": [
       "array([[1, 4, 5],\n",
       "       [2, 8, 7],\n",
       "       [9, 5, 3],\n",
       "       [2, 6, 2],\n",
       "       [8, 1, 3],\n",
       "       [7, 5, 6]])"
      ]
     },
     "execution_count": 26,
     "metadata": {},
     "output_type": "execute_result"
    }
   ],
   "source": [
    "def unfold(T):\n",
    "    '''unfolds a 3-dimensional tensor into one matrix using its frontal slices.'''\n",
    "    frontal_slices = get_slices(T)[0]\n",
    "    return np.vstack(frontal_slices)\n",
    "\n",
    "print('T:\\n\\n', T, '\\n')\n",
    "\n",
    "unfold(T)"
   ]
  },
  {
   "cell_type": "markdown",
   "id": "6ab0e220",
   "metadata": {},
   "source": [
    "The *fold* operation is the inverse of the *unfold* operation, and converts a matrix back into its initial tensor form:"
   ]
  },
  {
   "cell_type": "code",
   "execution_count": 27,
   "id": "503b32cf",
   "metadata": {},
   "outputs": [
    {
     "data": {
      "text/plain": [
       "array([[[1, 4, 5],\n",
       "        [2, 8, 7],\n",
       "        [9, 5, 3]],\n",
       "\n",
       "       [[2, 6, 2],\n",
       "        [8, 1, 3],\n",
       "        [7, 5, 6]]])"
      ]
     },
     "execution_count": 27,
     "metadata": {},
     "output_type": "execute_result"
    }
   ],
   "source": [
    "tl.base.fold(T, 0, (2, 3, 3))"
   ]
  },
  {
   "cell_type": "code",
   "execution_count": 28,
   "id": "e8bfb0ae",
   "metadata": {},
   "outputs": [
    {
     "data": {
      "text/plain": [
       "array([[[1, 4, 5],\n",
       "        [2, 8, 7],\n",
       "        [9, 5, 3]],\n",
       "\n",
       "       [[2, 6, 2],\n",
       "        [8, 1, 3],\n",
       "        [7, 5, 6]]])"
      ]
     },
     "execution_count": 28,
     "metadata": {},
     "output_type": "execute_result"
    }
   ],
   "source": [
    "tl.base.fold(unfold(T), 0, (2, 3, 3))"
   ]
  },
  {
   "cell_type": "markdown",
   "id": "b7baf9cb",
   "metadata": {},
   "source": [
    "Conversion of a tensor into a one-dimensional vector is called *vectorization*:"
   ]
  },
  {
   "cell_type": "code",
   "execution_count": 29,
   "id": "b3cda783",
   "metadata": {},
   "outputs": [
    {
     "name": "stdout",
     "output_type": "stream",
     "text": [
      "T:\n",
      "\n",
      " [[[1 4 5]\n",
      "  [2 8 7]\n",
      "  [9 5 3]]\n",
      "\n",
      " [[2 6 2]\n",
      "  [8 1 3]\n",
      "  [7 5 6]]] \n",
      "\n"
     ]
    },
    {
     "data": {
      "text/plain": [
       "array([[1, 4, 5, 2, 8, 7, 9, 5, 3, 2, 6, 2, 8, 1, 3, 7, 5, 6]])"
      ]
     },
     "execution_count": 29,
     "metadata": {},
     "output_type": "execute_result"
    }
   ],
   "source": [
    "def vectorize(T):\n",
    "    return T.reshape(1, -1)\n",
    "\n",
    "print('T:\\n\\n', T, '\\n')\n",
    "\n",
    "vectorize(T)"
   ]
  },
  {
   "cell_type": "markdown",
   "id": "6318725a",
   "metadata": {},
   "source": [
    "In the case of matrices, we can decompose one matrix into several matrices using the standard definition of matrix multiplication. \n",
    "\n",
    "In the case of tensors, matters are more complex, since there are many ways of multiplying two tensors. Each tensor multiplication method opens up new avenues of decomposition. However, only certain tensor multiplication methods generalize standard notions of linear algebra, such as the SVD.\n",
    "\n",
    "One example of a tensor multiplication operation is the *n-mode product*. This can be used to decompose one tensor into a smaller *core tensor* and several matrix *factors*:"
   ]
  },
  {
   "cell_type": "code",
   "execution_count": 30,
   "id": "889a19ce",
   "metadata": {},
   "outputs": [
    {
     "data": {
      "text/plain": [
       "array([[[32, 35, 28],\n",
       "        [68, 86, 73]],\n",
       "\n",
       "       [[39, 23, 26],\n",
       "        [90, 59, 59]]])"
      ]
     },
     "execution_count": 30,
     "metadata": {},
     "output_type": "execute_result"
    }
   ],
   "source": [
    "# number of columns in A must match number of modes in T\n",
    "# Each mode-n fiber is multiplied by the matrix U\n",
    "\n",
    "A = array([\n",
    "    [1, 2, 3],\n",
    "    [4, 5, 6]\n",
    "])\n",
    "\n",
    "tl.tenalg.mode_dot(T, A, 1)"
   ]
  },
  {
   "cell_type": "code",
   "execution_count": 31,
   "id": "599edf44",
   "metadata": {},
   "outputs": [
    {
     "name": "stdout",
     "output_type": "stream",
     "text": [
      "A:\n",
      "\n",
      " [[1 2 3]\n",
      " [4 5 6]]\n",
      "\n",
      "mode 1 unfolded:\n",
      "\n",
      " [[1 4 5 2 6 2]\n",
      " [2 8 7 8 1 3]\n",
      " [9 5 3 7 5 6]]\n",
      "\n",
      "A times mode 1 unfolded:\n",
      "\n",
      " [[32 35 28 39 23 26]\n",
      " [68 86 73 90 59 59]]\n",
      "\n",
      "mode-1 tensor product:\n",
      "\n"
     ]
    },
    {
     "data": {
      "text/plain": [
       "array([[[32, 35, 28],\n",
       "        [68, 86, 73]],\n",
       "\n",
       "       [[39, 23, 26],\n",
       "        [90, 59, 59]]])"
      ]
     },
     "execution_count": 31,
     "metadata": {},
     "output_type": "execute_result"
    }
   ],
   "source": [
    "mode_1_unfolded = tl.unfold(T, 1)\n",
    "result = A @ mode_1_unfolded\n",
    "\n",
    "print('A:\\n\\n', A)\n",
    "print('\\nmode 1 unfolded:\\n\\n', mode_1_unfolded)\n",
    "print('\\nA times mode 1 unfolded:\\n\\n', result)\n",
    "print('\\nmode-1 tensor product:\\n')\n",
    "tl.base.fold(result, 1, (2, 2, 3))"
   ]
  },
  {
   "cell_type": "code",
   "execution_count": 32,
   "id": "99d98021",
   "metadata": {},
   "outputs": [
    {
     "data": {
      "text/plain": [
       "array([[24, 20],\n",
       "       [39, 19],\n",
       "       [28, 35]])"
      ]
     },
     "execution_count": 32,
     "metadata": {},
     "output_type": "execute_result"
    }
   ],
   "source": [
    "A = array([1, 2, 3])\n",
    "tl.tenalg.mode_dot(T, A, 2).T"
   ]
  },
  {
   "cell_type": "code",
   "execution_count": 33,
   "id": "ed7e7f9a",
   "metadata": {},
   "outputs": [
    {
     "name": "stdout",
     "output_type": "stream",
     "text": [
      "core shape:\n",
      " (2, 3)\n",
      "\n",
      "factor shapes:\n",
      "[(12, 2), (12, 3)]\n",
      "\n",
      "reconstructed tensor:\n"
     ]
    },
    {
     "data": {
      "text/plain": [
       "array([[0., 0., 0., 0., 0., 0., 0., 0., 0., 0., 0., 0.],\n",
       "       [0., 0., 0., 0., 1., 1., 1., 1., 0., 0., 0., 0.],\n",
       "       [0., 0., 0., 0., 1., 1., 1., 1., 0., 0., 0., 0.],\n",
       "       [0., 0., 0., 0., 1., 1., 1., 1., 0., 0., 0., 0.],\n",
       "       [0., 1., 1., 1., 1., 1., 1., 1., 1., 1., 1., 0.],\n",
       "       [0., 1., 1., 1., 1., 1., 1., 1., 1., 1., 1., 0.],\n",
       "       [0., 1., 1., 1., 1., 1., 1., 1., 1., 1., 1., 0.],\n",
       "       [0., 1., 1., 1., 1., 1., 1., 1., 1., 1., 1., 0.],\n",
       "       [0., 0., 0., 0., 1., 1., 1., 1., 0., 0., 0., 0.],\n",
       "       [0., 0., 0., 0., 1., 1., 1., 1., 0., 0., 0., 0.],\n",
       "       [0., 0., 0., 0., 1., 1., 1., 1., 0., 0., 0., 0.],\n",
       "       [0., 0., 0., 0., 0., 0., 0., 0., 0., 0., 0., 0.]])"
      ]
     },
     "execution_count": 33,
     "metadata": {},
     "output_type": "execute_result"
    }
   ],
   "source": [
    "from tensorly.decomposition import tucker\n",
    "\n",
    "tensor = tl.tensor([[ 0.,  0.,  0.,  0.,  0.,  0.,  0.,  0.,  0.,  0.,  0.,  0.],\n",
    "                        [ 0.,  0.,  0.,  0.,  1.,  1.,  1.,  1.,  0.,  0.,  0.,  0.],\n",
    "                        [ 0.,  0.,  0.,  0.,  1.,  1.,  1.,  1.,  0.,  0.,  0.,  0.],\n",
    "                        [ 0.,  0.,  0.,  0.,  1.,  1.,  1.,  1.,  0.,  0.,  0.,  0.],\n",
    "                        [ 0.,  1.,  1.,  1.,  1.,  1.,  1.,  1.,  1.,  1.,  1.,  0.],\n",
    "                        [ 0.,  1.,  1.,  1.,  1.,  1.,  1.,  1.,  1.,  1.,  1.,  0.],\n",
    "                        [ 0.,  1.,  1.,  1.,  1.,  1.,  1.,  1.,  1.,  1.,  1.,  0.],\n",
    "                        [ 0.,  1.,  1.,  1.,  1.,  1.,  1.,  1.,  1.,  1.,  1.,  0.],\n",
    "                        [ 0.,  0.,  0.,  0.,  1.,  1.,  1.,  1.,  0.,  0.,  0.,  0.],\n",
    "                        [ 0.,  0.,  0.,  0.,  1.,  1.,  1.,  1.,  0.,  0.,  0.,  0.],\n",
    "                        [ 0.,  0.,  0.,  0.,  1.,  1.,  1.,  1.,  0.,  0.,  0.,  0.],\n",
    "                        [ 0.,  0.,  0.,  0.,  0.,  0.,  0.,  0.,  0.,  0.,  0.,  0.]])\n",
    "\n",
    "core, factors = tucker(tensor, rank=[2, 3])\n",
    "\n",
    "print('core shape:\\n', core.shape)\n",
    "print('\\nfactor shapes:')\n",
    "print([f.shape for f in factors])\n",
    "\n",
    "factor_0 = factors[0]\n",
    "factor_1 = factors[1]\n",
    "\n",
    "prod_1 = tl.tenalg.mode_dot(core, factor_0, 0)\n",
    "prod_2 = tl.tenalg.mode_dot(prod_1, factor_1, 1)\n",
    "\n",
    "print('\\nreconstructed tensor:')\n",
    "\n",
    "np.abs(np.round(prod_2, 2))"
   ]
  },
  {
   "cell_type": "markdown",
   "id": "7f96de9f",
   "metadata": {},
   "source": [
    "The inner product between two tensors can be computed by vectorizing each tensor and computing the corresponding dot product:"
   ]
  },
  {
   "cell_type": "code",
   "execution_count": 34,
   "id": "fdf663de",
   "metadata": {},
   "outputs": [
    {
     "name": "stdout",
     "output_type": "stream",
     "text": [
      "T:\n",
      "\n",
      " [[[1 4 5]\n",
      "  [2 8 7]\n",
      "  [9 5 3]]\n",
      "\n",
      " [[2 6 2]\n",
      "  [8 1 3]\n",
      "  [7 5 6]]] \n",
      "\n",
      "Inner Product of T with T:\n",
      "\n",
      " 502 \n",
      "\n"
     ]
    }
   ],
   "source": [
    "def inner_product(T1, T2):\n",
    "    vectorized_t1 = T1.reshape(1, -1)\n",
    "    vectorized_t2 = T2.reshape(1, -1)\n",
    "    return np.inner(vectorized_t1, vectorized_t2)[0][0]\n",
    "             \n",
    "print('T:\\n\\n', T, '\\n')\n",
    "print('Inner Product of T with T:\\n\\n', inner_product(T, T), '\\n')"
   ]
  },
  {
   "cell_type": "markdown",
   "id": "b8bef6bb",
   "metadata": {},
   "source": [
    "We can bootstrap a norm out of an inner product as follows:"
   ]
  },
  {
   "cell_type": "code",
   "execution_count": 35,
   "id": "0598c7af",
   "metadata": {},
   "outputs": [
    {
     "name": "stdout",
     "output_type": "stream",
     "text": [
      "T:\n",
      "\n",
      " [[[1 4 5]\n",
      "  [2 8 7]\n",
      "  [9 5 3]]\n",
      "\n",
      " [[2 6 2]\n",
      "  [8 1 3]\n",
      "  [7 5 6]]] \n",
      "\n",
      "Norm of T:\n",
      "\n",
      " 22.40535650240808 \n",
      "\n"
     ]
    }
   ],
   "source": [
    "def norm(T):\n",
    "    return np.sqrt(inner_product(T, T))\n",
    "\n",
    "print('T:\\n\\n', T, '\\n')\n",
    "print('Norm of T:\\n\\n', norm(T), '\\n')"
   ]
  },
  {
   "cell_type": "markdown",
   "id": "46aab43d",
   "metadata": {},
   "source": [
    "A square matrix in which each row (after the first) has the elements of the previous\n",
    "row shifted cyclically one place to the right, is called a *circulant matrix*. \n",
    "\n",
    "A circulant matrix has a *multi-diagonal* structure, with elements on each diagonal having the same value.\n",
    "\n",
    "Because each row of a circulant matrix has the same elements, we can define an operation that converts a vector into a circulant matrix as follows:"
   ]
  },
  {
   "cell_type": "code",
   "execution_count": 36,
   "id": "be337a68",
   "metadata": {},
   "outputs": [
    {
     "data": {
      "text/plain": [
       "array([[1., 2., 3.],\n",
       "       [3., 1., 2.],\n",
       "       [2., 3., 1.]])"
      ]
     },
     "execution_count": 36,
     "metadata": {},
     "output_type": "execute_result"
    }
   ],
   "source": [
    "def circ(vector):\n",
    "    n = vector.size\n",
    "    C = np.empty((n, n))\n",
    "\n",
    "    for i in range(n):\n",
    "        C[i, i:] = vector[:n-i]\n",
    "        C[i, :i] = vector[n-i:]  \n",
    "    return C\n",
    "\n",
    "v = array([1, 2, 3])\n",
    "circ(v)"
   ]
  },
  {
   "cell_type": "markdown",
   "id": "773987ab",
   "metadata": {},
   "source": [
    "Circulant matrices have the following interesting properties:\n",
    "\n",
    "1. The transpose of a circulant matrix is a circulant matrix.\n",
    "2. The sum of two circulant matrices is a circulant matrix.\n",
    "3. The product of two circulant matrices is a circulant matrix.\n",
    "4. The product of two circulant matrices does not depend on order."
   ]
  },
  {
   "cell_type": "code",
   "execution_count": 37,
   "id": "475cb985",
   "metadata": {},
   "outputs": [
    {
     "data": {
      "text/plain": [
       "array([[1., 3., 2.],\n",
       "       [2., 1., 3.],\n",
       "       [3., 2., 1.]])"
      ]
     },
     "execution_count": 37,
     "metadata": {},
     "output_type": "execute_result"
    }
   ],
   "source": [
    "C = circ(v)\n",
    "\n",
    "C.T"
   ]
  },
  {
   "cell_type": "code",
   "execution_count": 38,
   "id": "6e43088a",
   "metadata": {},
   "outputs": [
    {
     "data": {
      "text/plain": [
       "array([[2., 4., 6.],\n",
       "       [6., 2., 4.],\n",
       "       [4., 6., 2.]])"
      ]
     },
     "execution_count": 38,
     "metadata": {},
     "output_type": "execute_result"
    }
   ],
   "source": [
    "C + C"
   ]
  },
  {
   "cell_type": "code",
   "execution_count": 39,
   "id": "dca5a70d",
   "metadata": {},
   "outputs": [
    {
     "data": {
      "text/plain": [
       "array([[13., 13., 10.],\n",
       "       [10., 13., 13.],\n",
       "       [13., 10., 13.]])"
      ]
     },
     "execution_count": 39,
     "metadata": {},
     "output_type": "execute_result"
    }
   ],
   "source": [
    "C @ C"
   ]
  },
  {
   "cell_type": "code",
   "execution_count": 40,
   "id": "4a120e60",
   "metadata": {},
   "outputs": [
    {
     "data": {
      "text/plain": [
       "array([[ True,  True,  True],\n",
       "       [ True,  True,  True],\n",
       "       [ True,  True,  True]])"
      ]
     },
     "execution_count": 40,
     "metadata": {},
     "output_type": "execute_result"
    }
   ],
   "source": [
    "C @ C.T == C.T @ C"
   ]
  },
  {
   "cell_type": "markdown",
   "id": "e5540a05",
   "metadata": {},
   "source": [
    "Given a list of n x n matrices, we can apply the same idea to obtain a *block circulant matrix*:"
   ]
  },
  {
   "cell_type": "code",
   "execution_count": 41,
   "id": "153d1a82",
   "metadata": {},
   "outputs": [
    {
     "data": {
      "text/plain": [
       "array([[1., 0., 0., 0., 1., 0.],\n",
       "       [0., 1., 0., 0., 0., 1.],\n",
       "       [1., 0., 1., 0., 0., 0.],\n",
       "       [0., 1., 0., 1., 0., 0.],\n",
       "       [0., 0., 1., 0., 1., 0.],\n",
       "       [0., 0., 0., 1., 0., 1.]])"
      ]
     },
     "execution_count": 41,
     "metadata": {},
     "output_type": "execute_result"
    }
   ],
   "source": [
    "def circ_block(matrices):\n",
    "    shape = matrices[0].shape\n",
    "    columns = shape[1]\n",
    "    n = len(matrices)\n",
    "    result = []\n",
    "    \n",
    "    for i in range (n):\n",
    "        beginning = matrices[n-i:]\n",
    "        end = matrices[:n-i]\n",
    "\n",
    "        if not beginning:\n",
    "            row = np.hstack(end)\n",
    "        elif not end:\n",
    "            row = np.hstack(beginning)\n",
    "        else:\n",
    "            row = np.hstack(beginning + end)\n",
    "        result.append(row)\n",
    "    return np.vstack(result)\n",
    "\n",
    "M1 = np.eye(2) \n",
    "M2 = np.zeros((2, 2))\n",
    "matrices = [M1, M2, M1]\n",
    "\n",
    "circ_block(matrices)"
   ]
  },
  {
   "cell_type": "markdown",
   "id": "bb7e3fb1",
   "metadata": {},
   "source": [
    "In the case of tensors, it turns out to be useful to shift by column instead of by row:"
   ]
  },
  {
   "cell_type": "code",
   "execution_count": 42,
   "id": "797fbdd6",
   "metadata": {},
   "outputs": [
    {
     "data": {
      "text/plain": [
       "array([[1., 0., 1., 0., 0., 0.],\n",
       "       [0., 1., 0., 1., 0., 0.],\n",
       "       [0., 0., 1., 0., 1., 0.],\n",
       "       [0., 0., 0., 1., 0., 1.],\n",
       "       [1., 0., 0., 0., 1., 0.],\n",
       "       [0., 1., 0., 0., 0., 1.]])"
      ]
     },
     "execution_count": 42,
     "metadata": {},
     "output_type": "execute_result"
    }
   ],
   "source": [
    "def block_circ_columns(matrices):\n",
    "    shape = matrices[0].shape\n",
    "    columns = shape[1]\n",
    "    n = len(matrices)\n",
    "    result = []\n",
    "    \n",
    "    for i in range (n):\n",
    "        beginning = matrices[n-i:]\n",
    "        end = matrices[:n-i]\n",
    "\n",
    "        if not beginning:\n",
    "            column = np.vstack(end)\n",
    "        elif not end:\n",
    "            column = np.vstack(beginning)\n",
    "        else:\n",
    "            column = np.vstack(beginning + end)\n",
    "        result.append(column)\n",
    "    return np.hstack(result)\n",
    "\n",
    "M1 = np.eye(2) \n",
    "M2 = np.zeros((2, 2))\n",
    "matrices = [M1, M2, M1]\n",
    "block_circ_columns(matrices)"
   ]
  },
  {
   "cell_type": "markdown",
   "id": "1624dff3",
   "metadata": {},
   "source": [
    "Given one tensor, we can form a block circulant matrix from its frontal slices. \n",
    "However, instead of shifting by row, we shift by column:"
   ]
  },
  {
   "cell_type": "code",
   "execution_count": 43,
   "id": "9ee7312b",
   "metadata": {},
   "outputs": [
    {
     "data": {
      "text/plain": [
       "array([[1, 4, 5, 2, 6, 2],\n",
       "       [2, 8, 7, 8, 1, 3],\n",
       "       [9, 5, 3, 7, 5, 6],\n",
       "       [2, 6, 2, 1, 4, 5],\n",
       "       [8, 1, 3, 2, 8, 7],\n",
       "       [7, 5, 6, 9, 5, 3]])"
      ]
     },
     "execution_count": 43,
     "metadata": {},
     "output_type": "execute_result"
    }
   ],
   "source": [
    "def bcirc(T):\n",
    "    frontal_layers = get_slices(T)[0]\n",
    "    return block_circ_columns(frontal_layers)\n",
    "\n",
    "bcirc(T)"
   ]
  },
  {
   "cell_type": "markdown",
   "id": "7019c211",
   "metadata": {},
   "source": [
    "We can use the `bcirc` and `unfold` operations to define a tensor-multiplication called `t-prod`, which allows us to generalize the standard SVD.\n",
    "\n",
    "Given a tensor T1 with dimensions (l, m, n) and a tensor T2 with dimensions (m, o, n), the `t-prod` operation returns a third tensor with dimensions (l, o, n):"
   ]
  },
  {
   "cell_type": "code",
   "execution_count": 44,
   "id": "9cec02d4",
   "metadata": {},
   "outputs": [
    {
     "data": {
      "text/plain": [
       "array([[[1830, 1938, 2046],\n",
       "        [2208, 2343, 2478],\n",
       "        [2586, 2748, 2910]],\n",
       "\n",
       "       [[1830, 1938, 2046],\n",
       "        [2208, 2343, 2478],\n",
       "        [2586, 2748, 2910]],\n",
       "\n",
       "       [[ 930, 1038, 1146],\n",
       "        [1308, 1443, 1578],\n",
       "        [1686, 1848, 2010]]])"
      ]
     },
     "execution_count": 44,
     "metadata": {},
     "output_type": "execute_result"
    }
   ],
   "source": [
    "def t_prod(T1, T2):\n",
    "    shape = T1.shape\n",
    "    m1 = bcirc(T1)\n",
    "    m2 = unfold(T2)\n",
    "    product = m1 @ m2\n",
    "    return tl.base.fold(product, 0, shape)\n",
    "\n",
    "T3 = array([\n",
    "  [[1,2,3],    [4,5,6],    [7,8,9]],\n",
    "  [[11,12,13], [14,15,16], [17,18,19]],\n",
    "  [[21,22,23], [24,25,26], [27,28,29]],\n",
    "  ])\n",
    "\n",
    "t_prod(T3, T3)"
   ]
  },
  {
   "cell_type": "markdown",
   "id": "8df393d3",
   "metadata": {},
   "source": [
    "To obtain a generalization of the SVD, we must also define a useful transpose operations on tensors, which allows us to also define the notion of *orthogonal tensors*.\n",
    "\n",
    "If T is a tensor with dimensions (n1, n2, n3), then $A^T$ is the tensor with dimensions (n2, n1, n3) obtained by transposing each of the frontal slices of T and then reversing the order of transposed frontal slices 2 through n3:"
   ]
  },
  {
   "cell_type": "code",
   "execution_count": 45,
   "id": "ee7e0dee",
   "metadata": {},
   "outputs": [
    {
     "name": "stdout",
     "output_type": "stream",
     "text": [
      "T3:\n",
      "\n",
      " [[[ 1  2  3]\n",
      "  [ 4  5  6]\n",
      "  [ 7  8  9]]\n",
      "\n",
      " [[11 12 13]\n",
      "  [14 15 16]\n",
      "  [17 18 19]]\n",
      "\n",
      " [[21 22 23]\n",
      "  [24 25 26]\n",
      "  [27 28 29]]] \n",
      "\n"
     ]
    },
    {
     "data": {
      "text/plain": [
       "array([[[ 1,  4,  7],\n",
       "        [ 2,  5,  8],\n",
       "        [ 3,  6,  9]],\n",
       "\n",
       "       [[21, 24, 27],\n",
       "        [22, 25, 28],\n",
       "        [23, 26, 29]],\n",
       "\n",
       "       [[11, 14, 17],\n",
       "        [12, 15, 18],\n",
       "        [13, 16, 19]]])"
      ]
     },
     "execution_count": 45,
     "metadata": {},
     "output_type": "execute_result"
    }
   ],
   "source": [
    "def transpose(T):\n",
    "    shape = T.shape\n",
    "    frontal_slices = get_slices(T)[0]\n",
    "    first_slice = frontal_slices[0]\n",
    "    remaining_slices = frontal_slices[1:]\n",
    "    reversed_remaining_slices = remaining_slices[::-1]\n",
    "\n",
    "    result = []\n",
    "    result.append(first_slice.T)\n",
    "    \n",
    "    for slice in reversed_remaining_slices:\n",
    "        result.append(slice.T)\n",
    "    return tl.base.fold(result, 0, shape)\n",
    "\n",
    "print('T3:\\n\\n', T3, '\\n')\n",
    "transpose(T3)"
   ]
  },
  {
   "cell_type": "markdown",
   "id": "a7984247",
   "metadata": {},
   "source": [
    "An *identity tensor* is a tensor whose first frontal slice is the identity matrix and whose other frontal slices are all zero matrices:"
   ]
  },
  {
   "cell_type": "code",
   "execution_count": 46,
   "id": "92c85569",
   "metadata": {},
   "outputs": [],
   "source": [
    "I = array([\n",
    "  [\n",
    "    [1, 0, 0],    \n",
    "    [0, 1, 0],    \n",
    "    [0, 0, 1]\n",
    "  ],\n",
    "  [\n",
    "    [0, 0, 0], \n",
    "    [0, 0, 0], \n",
    "    [0, 0, 0]\n",
    "  ],\n",
    "  [\n",
    "    [0, 0, 0], \n",
    "    [0, 0, 0], \n",
    "    [0, 0, 0]\n",
    "  ],\n",
    "])"
   ]
  },
  {
   "cell_type": "markdown",
   "id": "85494577",
   "metadata": {},
   "source": [
    "We can use the above definition of the identity tensor to define the notion of a *tensor inverse*. The *inverse* of a tensor T is the tensor $T^{-1}$ such when T is multiplied by $T^{-1}$ using the `t-prod` operation, the identity tensor is obtained.\n",
    "\n",
    "Tensor T1 is *orthogonal* to tensor T2 if multiplication of the two tensors under the `t-prod` operation in either order yields the identity tensor.\n",
    "\n",
    "Orthogonal tensors generalize the notion of orthogonal matrices in the sense that the tensor norm is invariant under multiplication by an orthogonal tensor.\n",
    "\n",
    "The last definition we need before defining the `t-SVD` is that of an `f-diagnoal` tensor. A tensor is *f-diagonal* if each of its frontal slices is a diagonal matrix. \n",
    "\n",
    "The `t-SVD` theorem states that any tensor T of dimensions (n1, n2, n3) can be factored as:\n",
    "\n",
    "$T = USV{^T}$,\n",
    "\n",
    "where U has dimensions (n1, n1, n3), V has dimensions (n2, n2, n3), S has dimensions (n1, n2, n3), both U and V are orthogonal tensors, and S is an *f-frontal* tensor."
   ]
  }
 ],
 "metadata": {
  "kernelspec": {
   "display_name": "Python 3",
   "language": "python",
   "name": "python3"
  },
  "language_info": {
   "codemirror_mode": {
    "name": "ipython",
    "version": 3
   },
   "file_extension": ".py",
   "mimetype": "text/x-python",
   "name": "python",
   "nbconvert_exporter": "python",
   "pygments_lexer": "ipython3",
   "version": "3.9.1"
  }
 },
 "nbformat": 4,
 "nbformat_minor": 5
}
